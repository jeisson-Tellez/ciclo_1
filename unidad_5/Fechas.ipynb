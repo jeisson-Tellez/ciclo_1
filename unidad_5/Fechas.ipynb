{
 "cells": [
  {
   "cell_type": "code",
   "execution_count": 1,
   "metadata": {},
   "outputs": [],
   "source": [
    "import pandas as pd\r\n",
    "import matplotlib.pyplot as plt"
   ]
  },
  {
   "cell_type": "markdown",
   "metadata": {},
   "source": [
    "En python puedo trabajar con un nuevo tipo de dato llamado date, el cual se usa para las fechas, pues para poder introducir unas fechas antes solo se podia usar como str, sin embargo, pandas tiene una manera de trabajar con estas fechas "
   ]
  },
  {
   "cell_type": "code",
   "execution_count": 2,
   "metadata": {},
   "outputs": [
    {
     "name": "stdout",
     "output_type": "stream",
     "text": [
      "    name date_of_birth\n",
      "0   john    01/21/1988\n",
      "1   lisa    03/10/1977\n",
      "2  peter    07/25/1999\n",
      "3   carl    01/22/1977\n",
      "4  linda    09/30/1968\n",
      "5  betty    09/15/1970\n"
     ]
    }
   ],
   "source": [
    "df = pd.DataFrame({\r\n",
    "    'name':[\r\n",
    "        'john','lisa','peter','carl','linda','betty'\r\n",
    "    ],\r\n",
    "    'date_of_birth':[\r\n",
    "        '01/21/1988','03/10/1977','07/25/1999','01/22/1977','09/30/1968','09/15/1970'\r\n",
    "    ]})\r\n",
    "print(df)"
   ]
  },
  {
   "cell_type": "markdown",
   "metadata": {},
   "source": [
    "entonces, se introdujo un diccionario que se transformo en un dataframe, es su  segunda llave <'date_of_birth'> tiene una lista de fechas, pasadas como str, ahora bien, le decimos que solo queremos usar la informacion de la columna date_of_birth  con la expresion <df['date_of_birth']>  y que queremos dificarla usando el signo de operacion de asignacion =; con la expresion: pd.to_datetime(df['date_of_birth'], le decimos que transforme los datos a fechas y con la expresion  <infer_datetime_format=True)>  le decimos que infiera el formato "
   ]
  },
  {
   "cell_type": "code",
   "execution_count": 3,
   "metadata": {},
   "outputs": [
    {
     "name": "stdout",
     "output_type": "stream",
     "text": [
      "    name date_of_birth\n",
      "0   john    1988-01-21\n",
      "1   lisa    1977-03-10\n",
      "2  peter    1999-07-25\n",
      "3   carl    1977-01-22\n",
      "4  linda    1968-09-30\n",
      "5  betty    1970-09-15\n"
     ]
    }
   ],
   "source": [
    "df[\"date_of_birth\"]=pd.to_datetime(df[\"date_of_birth\"], infer_datetime_format=True)\r\n",
    "print(df)"
   ]
  },
  {
   "cell_type": "markdown",
   "metadata": {},
   "source": [
    "lo que sigue acontinuacion es graficar, entonces, df[\"date_of_birth\"] ahora es una lista de fechas,  la funcion map la aplico para generar una transformacion de los datos, en la cual la expresion  map(lambda d: d.month), saca cada uno de los datos <d> y de esa solo saca el mes <d.month>, entonces se recorre la lista y se le aplica la funcion del map, lo cual genera una serie diferente a date_of_birth, la cual va tener solos datos del mes y esa serie la dibujo con plot en un hostograma con hist "
   ]
  },
  {
   "cell_type": "code",
   "execution_count": 4,
   "metadata": {},
   "outputs": [
    {
     "data": {
      "text/plain": [
       "<AxesSubplot:ylabel='Frequency'>"
      ]
     },
     "execution_count": 4,
     "metadata": {},
     "output_type": "execute_result"
    },
    {
     "data": {
      "image/png": "[encoded data removed]",
      "text/plain": [
       "<Figure size 432x288 with 1 Axes>"
      ]
     },
     "metadata": {
      "needs_background": "light"
     },
     "output_type": "display_data"
    }
   ],
   "source": [
    "df[\"date_of_birth\"].map(lambda d: d.month).plot.hist()"
   ]
  },
  {
   "cell_type": "markdown",
   "metadata": {},
   "source": [
    "la biblioteca datetime, me permite crear fechas-horas, apartir de numeros independientes, (año, mes, dia, hora, minuto), como ejemplo tenemo: datetime.datetime(2011, 1, 4, 0, 0)-> genero datos tipo de tipo lista"
   ]
  },
  {
   "cell_type": "code",
   "execution_count": 5,
   "metadata": {},
   "outputs": [],
   "source": [
    "from matplotlib.dates import date2num\r\n",
    "import datetime"
   ]
  },
  {
   "cell_type": "code",
   "execution_count": 6,
   "metadata": {},
   "outputs": [],
   "source": [
    "fechas= [\r\n",
    "    datetime.datetime(2011, 1, 4, 0, 0),\r\n",
    "    datetime.datetime(2011, 1, 5, 0, 0),\r\n",
    "    datetime.datetime(2011, 1, 6, 0, 0)\r\n",
    "]"
   ]
  },
  {
   "cell_type": "code",
   "execution_count": null,
   "metadata": {},
   "outputs": [],
   "source": []
  },
  {
   "cell_type": "markdown",
   "metadata": {},
   "source": [
    "tomamos esta lista, la pasamos por un date2num que combiete el datetime en un numero, el cual es especial para la biblioteca en cual sive para graficar fechas \r\n",
    "<x-0.2>, <x>, <x+0.2> representan las distancias que tomaron o deben tomar las barras azul y roja, de la barra verde que esta en la posicio x\r\n",
    "width=0.2-> es el ancho de cada barra \r\n",
    "align='center-> es la alineacion de las barras \r\n"
   ]
  },
  {
   "cell_type": "code",
   "execution_count": 9,
   "metadata": {},
   "outputs": [
    {
     "name": "stdout",
     "output_type": "stream",
     "text": [
      "<class 'numpy.ndarray'>\n"
     ]
    }
   ],
   "source": [
    "x=date2num(x)\r\n",
    "print(type(x))"
   ]
  },
  {
   "cell_type": "code",
   "execution_count": 13,
   "metadata": {},
   "outputs": [
    {
     "data": {
      "image/png": "[encoded data removed]",
      "text/plain": [
       "<Figure size 432x288 with 1 Axes>"
      ]
     },
     "metadata": {
      "needs_background": "light"
     },
     "output_type": "display_data"
    }
   ],
   "source": [
    "from matplotlib.dates import date2num\r\n",
    "import datetime\r\n",
    "\r\n",
    "x = [\r\n",
    "    datetime.datetime(2011, 1, 4, 0, 0),\r\n",
    "    datetime.datetime(2011, 1, 5, 0, 0),\r\n",
    "    datetime.datetime(2011, 1, 6, 0, 0)\r\n",
    "]\r\n",
    "x = date2num(x)\r\n",
    "\r\n",
    "y = [4, 9, 2]\r\n",
    "z = [1, 2, 3]\r\n",
    "k = [11, 12, 13]\r\n",
    "\r\n",
    "ax = plt.subplot(111)\r\n",
    "ax.bar(x-0.2, y, width=0.2, color='b', align='center')\r\n",
    "ax.bar(x, z, width=0.2, color='g', align='center')\r\n",
    "ax.bar(x+0.2, k, width=0.2, color='r', align='center')\r\n",
    "ax.xaxis_date()\r\n",
    "\r\n",
    "plt.show()"
   ]
  },
  {
   "cell_type": "code",
   "execution_count": 22,
   "metadata": {},
   "outputs": [
    {
     "name": "stdout",
     "output_type": "stream",
     "text": [
      "   year  month  day      fecha\n",
      "0  2015      2    4 2015-02-04\n",
      "1  2016      3    5 2016-03-05\n"
     ]
    }
   ],
   "source": [
    "df = pd.DataFrame({'year': [2015, 2016],\r\n",
    "                   'month': [2, 3],\r\n",
    "                   'day': [4, 5]})\r\n",
    "                   \r\n",
    "\r\n",
    "\r\n",
    "df[\"fecha\"]=pd.to_datetime(df[[\"year\",\"month\", \"day\"]])\r\n",
    "print(df)"
   ]
  }
 ],
 "metadata": {
  "interpreter": {
   "hash": "26b417e9bb2fac26068092a2c711b294b03cf02a5d5b6cc090eb85bc763e4c38"
  },
  "kernelspec": {
   "display_name": "Python 3.9.5 64-bit",
   "name": "python3"
  },
  "language_info": {
   "codemirror_mode": {
    "name": "ipython",
    "version": 3
   },
   "file_extension": ".py",
   "mimetype": "text/x-python",
   "name": "python",
   "nbconvert_exporter": "python",
   "pygments_lexer": "ipython3",
   "version": "3.9.5"
  },
  "orig_nbformat": 4
 },
 "nbformat": 4,
 "nbformat_minor": 2
}